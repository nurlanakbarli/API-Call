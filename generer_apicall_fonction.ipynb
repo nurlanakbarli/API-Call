{
 "cells": [
  {
   "cell_type": "code",
   "execution_count": 42,
   "id": "9cd18658",
   "metadata": {},
   "outputs": [],
   "source": [
    "import json\n",
    "import requests\n",
    "import urllib \n",
    "\n"
   ]
  },
  {
   "cell_type": "code",
   "execution_count": 43,
   "id": "85490b33",
   "metadata": {},
   "outputs": [],
   "source": [
    "user='login'\n",
    "password='*****'\n",
    "url='http://'"
   ]
  },
  {
   "cell_type": "code",
   "execution_count": 44,
   "id": "050c5204",
   "metadata": {},
   "outputs": [],
   "source": [
    "module='modul_name'"
   ]
  },
  {
   "cell_type": "code",
   "execution_count": null,
   "id": "3f0a7f28",
   "metadata": {},
   "outputs": [],
   "source": [
    "r= requests.get(url+'/ping')\n",
    "print(r.json())\n",
    "r= requests.post(url+'/login', json={\"identifier\":user,\"password\":password})\n",
    "token=r.json()['token']\n",
    "print(token)\n",
    "r = requests.get(url+'/modules',  headers={'Authorization': f'{token}'})"
   ]
  },
  {
   "cell_type": "code",
   "execution_count": 46,
   "id": "931d4690",
   "metadata": {},
   "outputs": [],
   "source": [
    "def call_api(method, url, token=None, data=None):\n",
    "    headers = {}\n",
    "    if token:\n",
    "        headers['Authorization'] = f'{token}'\n",
    "    if data:\n",
    "        headers['Content-Type'] = 'application/json'\n",
    "        headers['Accept'] = 'application/json'\n",
    "    if method == 'POST':\n",
    "        response = requests.post(url, headers=headers, data=data)\n",
    "    elif method == 'PUT':\n",
    "        response = requests.put(url, headers=headers, data=data)\n",
    "    elif method == 'DELETE':\n",
    "        response = requests.delete(url, headers=headers)\n",
    "    else:\n",
    "        raise ValueError(f\"Invalid HTTP method: {method}\")\n",
    "\n",
    "    if response.status_code < 200 or response.status_code >= 300:\n",
    "        raise requests.exceptions.HTTPError(f\"HTTP {response.status_code}: {response.text}\")\n",
    "    \n",
    "    return response.json()\n",
    "\n"
   ]
  },
  {
   "cell_type": "code",
   "execution_count": 47,
   "id": "ce790735",
   "metadata": {},
   "outputs": [],
   "source": [
    "path = \"C:/Users/NurlanAkbarli/Documents/osg323/\"  #path\n",
    "json_data=json.load(open(path+'situation_name_dim_group_small.json','rb'))"
   ]
  },
  {
   "cell_type": "code",
   "execution_count": 48,
   "id": "db07b80f",
   "metadata": {},
   "outputs": [],
   "source": [
    "dim_group_name_list = []\n",
    "dim_group_list = []"
   ]
  },
  {
   "cell_type": "code",
   "execution_count": 49,
   "id": "97bf36b4",
   "metadata": {},
   "outputs": [],
   "source": [
    "for data_item in json_data:\n",
    "        dim_group_name_list.append(data_item[\"name\"]) \n",
    "        dm_re = str(data_item).replace('\\'', '\"') \n",
    "        dim_group_list.append(dm_re)  \n",
    "        "
   ]
  },
  {
   "cell_type": "code",
   "execution_count": null,
   "id": "916b3e18",
   "metadata": {},
   "outputs": [],
   "source": [
    "APIcall = '/module/module_name/dimension/group/'\n",
    "\n",
    "for index in range (0,len(dim_group_list)):\n",
    "    APIcallDimGroup = APIcall + dim_group_name_list[index]\n",
    "    # méthode POST\n",
    "    response = call_api('POST', url + APIcallDimGroup, token, dim_group_list[index])\n",
    "    print(response)\n",
    "    \n",
    "    # méthode PUT\n",
    "    \n",
    "    #response = call_api('PUT', url + APIcallDimGroup, token, dim_group_list[index])\n",
    "    #print(response)\n",
    "    \n",
    "    # méthode DELETE\n",
    "\n",
    "    #response = call_api('DELETE', url + APIcallDimGroup, token)\n",
    "    #print(response)\n"
   ]
  },
  {
   "cell_type": "code",
   "execution_count": null,
   "id": "cce99a8e",
   "metadata": {},
   "outputs": [],
   "source": []
  },
  {
   "cell_type": "code",
   "execution_count": null,
   "id": "ce5be408",
   "metadata": {},
   "outputs": [],
   "source": []
  },
  {
   "cell_type": "code",
   "execution_count": null,
   "id": "3d65b9cd",
   "metadata": {},
   "outputs": [],
   "source": []
  }
 ],
 "metadata": {
  "kernelspec": {
   "display_name": "Python 3 (ipykernel)",
   "language": "python",
   "name": "python3"
  },
  "language_info": {
   "codemirror_mode": {
    "name": "ipython",
    "version": 3
   },
   "file_extension": ".py",
   "mimetype": "text/x-python",
   "name": "python",
   "nbconvert_exporter": "python",
   "pygments_lexer": "ipython3",
   "version": "3.9.7"
  }
 },
 "nbformat": 4,
 "nbformat_minor": 5
}
