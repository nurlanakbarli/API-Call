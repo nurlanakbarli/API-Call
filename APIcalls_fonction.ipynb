{
 "cells": [
  {
   "cell_type": "code",
   "execution_count": 121,
   "metadata": {},
   "outputs": [],
   "source": [
    "# Importing all the necessary libraries\n",
    "\n",
    "\n",
    "import json\n",
    "import requests\n",
    "import urllib \n",
    "import time\n"
   ]
  },
  {
   "cell_type": "code",
   "execution_count": 122,
   "metadata": {},
   "outputs": [],
   "source": [
    "#declare the information needed to access the server\n",
    "\n",
    "user='your_login'\n",
    "password='*****'\n",
    "url='http://'\n",
    "module='modul_name'"
   ]
  },
  {
   "cell_type": "code",
   "execution_count": null,
   "metadata": {},
   "outputs": [],
   "source": [
    "# Preparing the API cals for ingestion\n",
    "\n",
    "r= requests.get(url+'/ping')\n",
    "print(r.json())\n",
    "r= requests.post(url+'/login', json={\"identifier\":user,\"password\":password})\n",
    "token=r.json()['token']\n",
    "print(token)\n",
    "r = requests.get(url+'/modules',  headers={'Authorization': f'{token}'})"
   ]
  },
  {
   "cell_type": "code",
   "execution_count": 124,
   "metadata": {},
   "outputs": [],
   "source": [
    "# Getting filepath and json data to post. Please update the variable's value if the dim group file is not in the same folder with this script.\n",
    "\n",
    "path = \"C:/Users/NurlanAkbarli/Documents/folder/\"  #path\n",
    "json_data=json.load(open(path+'name.json','rb'))"
   ]
  },
  {
   "cell_type": "code",
   "execution_count": null,
   "metadata": {},
   "outputs": [],
   "source": [
    "print(json_data[0])"
   ]
  },
  {
   "cell_type": "code",
   "execution_count": 126,
   "metadata": {},
   "outputs": [],
   "source": [
    "# Declaring dictionaries to list dimgroups names and bodies as a string.\n",
    "dim_group_name_list=[]\n",
    "dim_group_list=[]\n",
    "for data1 in json_data:\n",
    "    dim_group_name_list.append(data1[\"name\"])\n",
    "    dm_re = str(data1).replace('\\'', '\"')\n",
    "    dim_group_list.append(dm_re)"
   ]
  },
  {
   "cell_type": "code",
   "execution_count": null,
   "metadata": {},
   "outputs": [],
   "source": [
    "# Displaying an element of the group dimension\n",
    "print(dim_group_name_list[0])\n",
    "print(dim_group_list[0])"
   ]
  },
  {
   "cell_type": "code",
   "execution_count": null,
   "metadata": {},
   "outputs": [],
   "source": [
    "#see all dimension groups and their names\n",
    "for i in range(len(dim_group_name_list)):\n",
    "    print(dim_group_name_list[i])\n",
    "    print(dim_group_list[i])"
   ]
  },
  {
   "cell_type": "code",
   "execution_count": 129,
   "metadata": {},
   "outputs": [],
   "source": [
    "## Getting filepath and json data to Put\n",
    "path = \"C:/Users/NurlanAkbarli/Documents/folder/\"  #path\n",
    "json_dataPut=json.load(open(path+'name_put.json','rb'))"
   ]
  },
  {
   "cell_type": "code",
   "execution_count": null,
   "metadata": {},
   "outputs": [],
   "source": [
    "print(json_dataPut[0])"
   ]
  },
  {
   "cell_type": "code",
   "execution_count": 131,
   "metadata": {},
   "outputs": [],
   "source": [
    "# Declaring dictionaries to list dimgroups names and bodies as a string.\n",
    "dim_group_name_listPut=[]\n",
    "dim_group_listPut=[]\n",
    "for data2 in json_dataPut:\n",
    "    dim_group_name_listPut.append(data2[\"name\"])\n",
    "    dm_re = str(data2).replace('\\'', '\"')\n",
    "    dim_group_listPut.append(dm_re)"
   ]
  },
  {
   "cell_type": "code",
   "execution_count": null,
   "metadata": {},
   "outputs": [],
   "source": [
    "## see all dimension groups and their names in the second json file\n",
    "\n",
    "for i in range(len(dim_group_name_listPut)):\n",
    "    print(dim_group_name_listPut[i])\n",
    "    print(dim_group_listPut[i])"
   ]
  },
  {
   "cell_type": "code",
   "execution_count": 133,
   "metadata": {},
   "outputs": [],
   "source": [
    "# Prepare API call for posting and puting dim groups\n",
    "\n",
    "APIcall = '/module/modul_name/dimension/group/'\n",
    "\n",
    "\n"
   ]
  },
  {
   "cell_type": "code",
   "execution_count": 134,
   "metadata": {},
   "outputs": [],
   "source": [
    "# Prepare API call for deleting one of the dim group's name\n",
    "\n",
    "APIcallDELETE = '/module/module_name/dimension/group/group_name_that_you_want_todelete'\n",
    "\n",
    "\n",
    "hard_delete = True"
   ]
  },
  {
   "cell_type": "code",
   "execution_count": 135,
   "metadata": {},
   "outputs": [],
   "source": [
    "# declaring the fonction\n",
    "\n",
    "def call_api(method, url, token, index, dim_group_list, dim_group_listPut, APIcallDimGroup, APIcallDimGroupPut, APIcallDELETE, hard_delete, data=None):\n",
    "    \n",
    "        if method == 'POST':\n",
    "            response = requests.post(url+APIcallDimGroup, headers={'Authorization': f'{token}','Accept' : 'application/json', 'Content-Type':'application/json'},data=dim_group_list[index])\n",
    "        elif method == 'PUT':\n",
    "            response = requests.put(url+APIcallDimGroupPut, headers={'Authorization': f'{token}','Accept' : 'application/json', 'Content-Type':'application/json'},data=dim_group_listPut[index])\n",
    "        elif method == 'DELETE':\n",
    "            response = requests.delete(url+APIcallDELETE, headers={'Authorization': f'{token}','Accept' : 'application/json', 'Content-Type':'application/json'}, json={\"hardDelete\": hard_delete})\n",
    "        return response\n",
    "   "
   ]
  },
  {
   "cell_type": "code",
   "execution_count": null,
   "metadata": {},
   "outputs": [],
   "source": [
    "#APIcall fonction in loop; The second line of the firs part of loop is to apply the API address to all the dim_groups of the first file that we want to post. its third line does the same thing on the file we want to do Put\n",
    "#The second part of loop iterates over the list ['POST', 'PUT', 'DELETE']. For each value in the list, it calls a function called \"call_api\" with several arguments, including the current value of the loop\n",
    "\n",
    "for index in range(len(dim_group_list)):\n",
    "    APIcallDimGroup = APIcall + dim_group_name_list[index]\n",
    "    APIcallDimGroupPut = APIcall + dim_group_name_listPut[index]\n",
    "    \n",
    "    for method in ['POST', 'PUT', 'DELETE']:\n",
    "        reponse = call_api(method, url, token, index, dim_group_list, dim_group_listPut, APIcallDimGroup, APIcallDimGroupPut, APIcallDELETE, hard_delete)\n",
    "        time.sleep(5)\n",
    "        print(reponse.status_code)\n",
    "        print(reponse.text)"
   ]
  },
  {
   "cell_type": "code",
   "execution_count": null,
   "metadata": {},
   "outputs": [],
   "source": []
  },
  {
   "cell_type": "code",
   "execution_count": null,
   "metadata": {},
   "outputs": [],
   "source": []
  },
  {
   "cell_type": "code",
   "execution_count": null,
   "metadata": {},
   "outputs": [],
   "source": [
    "\n",
    "\n"
   ]
  },
  {
   "cell_type": "code",
   "execution_count": null,
   "metadata": {},
   "outputs": [],
   "source": []
  },
  {
   "cell_type": "code",
   "execution_count": null,
   "metadata": {},
   "outputs": [],
   "source": []
  },
  {
   "cell_type": "code",
   "execution_count": null,
   "metadata": {},
   "outputs": [],
   "source": []
  },
  {
   "cell_type": "code",
   "execution_count": null,
   "metadata": {},
   "outputs": [],
   "source": []
  },
  {
   "cell_type": "code",
   "execution_count": null,
   "metadata": {},
   "outputs": [],
   "source": []
  },
  {
   "cell_type": "code",
   "execution_count": null,
   "metadata": {},
   "outputs": [],
   "source": []
  },
  {
   "cell_type": "code",
   "execution_count": null,
   "metadata": {},
   "outputs": [],
   "source": []
  },
  {
   "cell_type": "code",
   "execution_count": null,
   "metadata": {},
   "outputs": [],
   "source": []
  },
  {
   "cell_type": "code",
   "execution_count": null,
   "metadata": {},
   "outputs": [],
   "source": []
  },
  {
   "cell_type": "code",
   "execution_count": null,
   "metadata": {},
   "outputs": [],
   "source": []
  },
  {
   "cell_type": "code",
   "execution_count": null,
   "metadata": {},
   "outputs": [],
   "source": []
  },
  {
   "cell_type": "code",
   "execution_count": null,
   "metadata": {},
   "outputs": [],
   "source": []
  }
 ],
 "metadata": {
  "kernelspec": {
   "display_name": "base",
   "language": "python",
   "name": "python3"
  },
  "language_info": {
   "codemirror_mode": {
    "name": "ipython",
    "version": 3
   },
   "file_extension": ".py",
   "mimetype": "text/x-python",
   "name": "python",
   "nbconvert_exporter": "python",
   "pygments_lexer": "ipython3",
   "version": "3.9.7"
  },
  "orig_nbformat": 4
 },
 "nbformat": 4,
 "nbformat_minor": 2
}
